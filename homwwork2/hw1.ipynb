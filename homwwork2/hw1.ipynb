{
 "cells": [
  {
   "cell_type": "code",
   "execution_count": 1,
   "metadata": {},
   "outputs": [
    {
     "data": {
      "image/png": "[encoded data removed]",
      "text/plain": [
       "<Figure size 640x480 with 1 Axes>"
      ]
     },
     "metadata": {},
     "output_type": "display_data"
    }
   ],
   "source": [
    "import numpy as np\n",
    "import matplotlib.pyplot as plt\n",
    "import decimal\n",
    "decimal.getcontext().prec = 50\n",
    "def f(x):\n",
    "    return x**3-5*x+3\n",
    "def  df(x):\n",
    "    return 3*x**2-5\n",
    "def f_decimal(x):\n",
    "    xd=decimal.Decimal(x)\n",
    "    return x**3-5*x+3\n",
    "def  df_decimal(x):\n",
    "    xd=decimal.Decimal(x)\n",
    "    return 3*xd**2-5\n",
    "def find_bracket(f,rg=[-3,3],n=10,ifplot=False):\n",
    "    \"\"\"\n",
    "    find the bracket of the root of the function f in the range rg by sampling n points\n",
    "    :param f: function\n",
    "    :param rg: range\n",
    "    :param n: number of points\n",
    "    :return: the bracket of the root\n",
    "    \"\"\"\n",
    "    x=np.linspace(rg[0],rg[1],n)\n",
    "    y=f(x)\n",
    "    y_roll=np.roll(y,1)\n",
    "    y_cov=y[1:]*y_roll[1:]\n",
    "    cr0=np.where(y_cov<0)\n",
    "    bracket=[(x[i],x[i+1]) for i in cr0[0]]\n",
    "    if ifplot:\n",
    "        for i in range(len(bracket)):\n",
    "            xx=np.linspace(rg[0],rg[1],1000)\n",
    "            plt.plot(xx,f(xx))\n",
    "            plt.plot(bracket[i],[0,0],c='r')\n",
    "            plt.scatter(bracket[i],[0,0],c='b',marker=\"s\")\n",
    "    return bracket\n",
    "fig=plt.figure()\n",
    "find_bracket(f,[-3,3],n=10,ifplot=True)\n",
    "fig.savefig(\"f(x) with bracket.png\",dpi=600)"
   ]
  },
  {
   "cell_type": "code",
   "execution_count": 54,
   "metadata": {},
   "outputs": [
    {
     "name": "stdout",
     "output_type": "stream",
     "text": [
      "The bisection method converged after 16 iterations\n",
      "The root is 0.6566187540690104 The error is 5.0862630207593185e-06\n",
      "The bisection method converged after 16 iterations\n",
      "The root is 1.834241231282552 The error is 5.086263020981363e-06\n"
     ]
    }
   ],
   "source": [
    "bracket=find_bracket(f,[0,3],n=10)\n",
    "def bisection_method(f, rg, tol=1e-4, max_iter=100,ifplot=False):\n",
    "    a,b=rg\n",
    "    if f(a) * f(b) >= 0:\n",
    "        raise ValueError(\"Function does not change sign in the interval.\")\n",
    "    converged=0\n",
    "    flist=[]\n",
    "    for i in range(max_iter):\n",
    "        c = (a + b) / 2\n",
    "        if np.abs(b - a) < tol:\n",
    "            print(f\"The bisection method converged after {i} iterations\")\n",
    "            print(f\"The root is {c}\",f\"The error is {np.abs(b - a)}\")\n",
    "            break\n",
    "        elif f(c) * f(a) < 0:\n",
    "            b = c\n",
    "        else:\n",
    "            a = c\n",
    "        flist.append(f(c))\n",
    "    else:\n",
    "        converged=1\n",
    "    if converged:\n",
    "        print(\"The bisection method did not converge after\", max_iter, \"iterations.\")\n",
    "    flist=np.array(flist)\n",
    "    return (a + b) / 2,np.abs(b - a),flist\n",
    "\n",
    "root1,error1,flist1=bisection_method(f, bracket[0], tol=1e-5, max_iter=100,ifplot=True)\n",
    "root2,error2,flist2=bisection_method(f, bracket[1], tol=1e-5, max_iter=100,ifplot=True)\n",
    "\n",
    "# plt.plot(np.log(np.abs(flist)),marker='s')\n",
    "# plt.xlabel(\"iteration\")\n",
    "# plt.ylabel(\"log(f(xi))\")"
   ]
  },
  {
   "cell_type": "code",
   "execution_count": 55,
   "metadata": {},
   "outputs": [
    {
     "name": "stdout",
     "output_type": "stream",
     "text": [
      "The Newton-Raphson method converged after 2 iterations\n",
      "The root is 0.65662043104711036614223138131117923286459122673195\n",
      " The error is 1.1871464547991473716127844534304137055407551846603E-24\n"
     ]
    }
   ],
   "source": [
    "\n",
    "def newton_raphson_method(f_decimal, df_decimal, x0, tol,max_iter=100):\n",
    "    x =decimal.Decimal(x0)\n",
    "    tol=decimal.Decimal(tol)\n",
    "    flist=[]\n",
    "    for i in range(max_iter):\n",
    "        fx = f_decimal(x)\n",
    "        dfx = df_decimal(x)\n",
    "        if dfx == 0:\n",
    "            raise ValueError(\"meet zero derivative at \",x)\n",
    "        dx = fx / dfx\n",
    "        if abs(dx)<tol:\n",
    "            print (f\"The Newton-Raphson method converged after {i} iterations\")\n",
    "            print(f\"The root is {x}\\n\",f\"The error is {abs(dx)}\")\n",
    "            break\n",
    "        x = x - dx\n",
    "        flist.append(fx)\n",
    "\n",
    "    return x,abs(dx),flist\n",
    "root_polisthed,error_polished,flist1=newton_raphson_method(f, df, root1,tol=1e-14,max_iter=100)"
   ]
  },
  {
   "cell_type": "code",
   "execution_count": 61,
   "metadata": {},
   "outputs": [
    {
     "name": "stdout",
     "output_type": "stream",
     "text": [
      "The hybrid method converged after 5 iterations\n",
      "The root is 1.8342431843139217171156261389599640227114079181725\n",
      " The error is 6.70162251742618945314537E-26\n"
     ]
    },
    {
     "data": {
      "text/plain": [
       "Decimal('1.8342431843139217171156261389599640227114079181725')"
      ]
     },
     "execution_count": 61,
     "metadata": {},
     "output_type": "execute_result"
    }
   ],
   "source": [
    "def hybrid_method(f, df, rg, tol=1e-4, max_iter=100,ifplot=False):\n",
    "    a=decimal.Decimal(rg[0])\n",
    "    b=decimal.Decimal(rg[1])\n",
    "    x=(a+b)/2\n",
    "    if f(a) * f(b) >= 0:\n",
    "        raise ValueError(\"Function does not change sign in the interval.\")\n",
    "    for i in range(max_iter):\n",
    "        if abs (f(x)) < tol:\n",
    "            print(f\"The hybrid method converged after {i} iterations\")\n",
    "            print(f\"The root is {x}\\n\",f\"The error is {abs(f(x))}\")\n",
    "            return x\n",
    "        else:\n",
    "            if abs(df(x))>tol:\n",
    "                x= x - f(x)/df(x)\n",
    "                if x<a or x>b:\n",
    "                    x=(a+b)/2\n",
    "    return x\n",
    "hybrid_method(f_decimal, df_decimal, [1,3], tol=1e-14, max_iter=100,ifplot=True)"
   ]
  },
  {
   "cell_type": "code",
   "execution_count": 79,
   "metadata": {},
   "outputs": [
    {
     "name": "stdout",
     "output_type": "stream",
     "text": [
      "The hybrid method converged after 3 iterations\n",
      "The root is 1.8342431843139217171156261258023562040781437593025\n",
      " The error is 8.1213818432868148473184715284835055185491753599621E-25\n"
     ]
    }
   ],
   "source": [
    "def hybrid_method(f, df, rg, tol=1e-4, max_iter=100):\n",
    "    a=decimal.Decimal(rg[0])\n",
    "    b=decimal.Decimal(rg[1])\n",
    "    eps=10**(5-(decimal.getcontext()).prec)\n",
    "    x=(a+b)/2\n",
    "    flist=np.array([])\n",
    "    if f(a) * f(b) >= 0:\n",
    "        raise ValueError(\"Function does not change sign in the interval.\")\n",
    "    for i in range(max_iter):\n",
    "        dfx=df(x)\n",
    "        fx=f(x)\n",
    "        if abs(dfx)<eps:\n",
    "            x=(a+b)/2\n",
    "            dx=abs(b-a)\n",
    "        else:\n",
    "            dx=fx/dfx\n",
    "            x=x-dx\n",
    "        if abs(dx)<tol:\n",
    "            print(f\"The hybrid method converged after {i} iterations\")\n",
    "            print(f\"The root is {x}\\n\",f\"The error is {abs(dx)}\")\n",
    "            break\n",
    "    return x,abs(dx),flist\n",
    "root,error,flist=hybrid_method(f_decimal, df_decimal, bracket[1], tol=1e-14, max_iter=100)"
   ]
  },
  {
   "cell_type": "code",
   "execution_count": 64,
   "metadata": {},
   "outputs": [
    {
     "data": {
      "text/plain": [
       "50"
      ]
     },
     "execution_count": 64,
     "metadata": {},
     "output_type": "execute_result"
    }
   ],
   "source": [
    "(decimal.getcontext()).prec"
   ]
  },
  {
   "cell_type": "code",
   "execution_count": null,
   "metadata": {},
   "outputs": [],
   "source": []
  }
 ],
 "metadata": {
  "kernelspec": {
   "display_name": "base",
   "language": "python",
   "name": "python3"
  },
  "language_info": {
   "codemirror_mode": {
    "name": "ipython",
    "version": 3
   },
   "file_extension": ".py",
   "mimetype": "text/x-python",
   "name": "python",
   "nbconvert_exporter": "python",
   "pygments_lexer": "ipython3",
   "version": "3.12.3"
  }
 },
 "nbformat": 4,
 "nbformat_minor": 2
}
